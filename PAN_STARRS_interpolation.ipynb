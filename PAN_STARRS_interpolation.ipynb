{
 "cells": [
  {
   "cell_type": "markdown",
   "metadata": {},
   "source": [
    "## PAN-STARRS Mbol Interpolation Using Color"
   ]
  },
  {
   "cell_type": "markdown",
   "metadata": {},
   "source": [
    "Author: Aniket Sanghi\n",
    "\n",
    "Institution: The University of Texas at Austin\n",
    "\n",
    "This is general purpose notebook to interpolate bolometric magnitudes using PAN-STARRS photometry in g, r, i, z bands \n",
    "as the input. The interpolation is made utilizing Table B1. from ***Deacon, N.R., Kraus, A.L., Mann, A.W., et al. 2016, MNRAS, 455, 4212***\n",
    "\n",
    "Follow the USER comments for instructions on utilizing this notebook. Users will commonly have to modify only cell 2. You will need to clone and download the entire repository so that the relevant text file (containing the grid) can be utilized for interpolation."
   ]
  },
  {
   "cell_type": "markdown",
   "metadata": {},
   "source": [
    "## User Inputs: ACTION REQUIRED"
   ]
  },
  {
   "cell_type": "code",
   "execution_count": null,
   "metadata": {
    "ExecuteTime": {
     "end_time": "2020-07-10T03:47:40.760492Z",
     "start_time": "2020-07-10T03:47:40.750806Z"
    }
   },
   "outputs": [],
   "source": [
    "# USER: Enter your system paths to the FITS file\n",
    "fits_filepath = 'your_path/your_file.fits'\n",
    "\n",
    "# USER: Enter the names of the columns storing the respective data in your FITS File\n",
    "# If there are multiple columns for the same photometric band (arising from cross-matches etc.),\n",
    "# specify names of additional columns in '' separated by commas\n",
    "# The code will utilize the column that has photometry values and ignore ones that do not.\n",
    "# NOTE: If you are specifying a photometric band column but do not have an error column, \n",
    "# add '' to the error column name. (You do not need to have multiple columns for all bands but you need to \n",
    "# have a corresponding error column for each specification even if you leave it as '')\n",
    "# Example is provided below for multiple column use and no corresponding error column.\n",
    "\n",
    "# PAN-STARRS Photometry\n",
    "gmag_col = ['gmag', 'g_P1']\n",
    "gmag_err_col = ['e_gmag', '']\n",
    "rmag_col = ['rmag', 'r_P1']\n",
    "rmag_err_col = ['e_rmag', 'r_P1_err']\n",
    "imag_col = ['imag']\n",
    "imag_err_col = ['e_imag']\n",
    "zmag_col = ['zmag']\n",
    "zmag_err_col = ['e_zmag']\n",
    "\n",
    "# USER: If you have defined a subset for your data that is a boolean column and you wish to use those datapoints only. \n",
    "# Enter the name of the column and set flag to 1\n",
    "\n",
    "# Subset Column\n",
    "bool_subset_col = 'your_subset'\n",
    "bool_subset_flag = 0"
   ]
  },
  {
   "cell_type": "markdown",
   "metadata": {},
   "source": [
    "## Photometry Addition Function"
   ]
  },
  {
   "cell_type": "code",
   "execution_count": null,
   "metadata": {
    "ExecuteTime": {
     "end_time": "2020-07-10T03:47:41.009765Z",
     "start_time": "2020-07-10T03:47:40.991192Z"
    }
   },
   "outputs": [],
   "source": [
    "# USER: Do not modify contents\n",
    "\n",
    "from astropy.io import fits\n",
    "from astropy.table import Table\n",
    "import numpy as np\n",
    "from scipy.interpolate import griddata\n",
    "\n",
    "def photometry(photometry_cols, photometry_dict):\n",
    "    \n",
    "    keys = list(photometry_dict.keys())\n",
    "    \n",
    "    for counter in range(0, len(photometry_cols), 2):\n",
    "        \n",
    "        photo_flag = 0\n",
    "        \n",
    "        for ctr in range(0, len(photometry_cols[counter])):\n",
    "           \n",
    "            if(photo_flag == 0):\n",
    "                \n",
    "                if(photometry_cols[counter][ctr] != '' and ~np.isnan(data[index][photometry_cols[counter][ctr]])):\n",
    "\n",
    "                    photometry_dict[keys[counter]] = data[index][photometry_cols[counter][ctr]]\n",
    "                    \n",
    "                    if(photometry_cols[counter+1][ctr] != ''):\n",
    "                        photometry_dict[keys[counter+1]] = data[index][photometry_cols[counter+1][ctr]]\n",
    "                    \n",
    "                    photo_flag = 1\n",
    "            \n",
    "            else:\n",
    "                break\n",
    "            \n",
    "    return photometry_dict"
   ]
  },
  {
   "cell_type": "markdown",
   "metadata": {},
   "source": [
    "## Access Data"
   ]
  },
  {
   "cell_type": "code",
   "execution_count": null,
   "metadata": {
    "ExecuteTime": {
     "end_time": "2020-07-10T03:47:41.545216Z",
     "start_time": "2020-07-10T03:47:41.237164Z"
    }
   },
   "outputs": [],
   "source": [
    "# Open FITS file\n",
    "hdu_list = fits.open(fits_filepath, memmap=True)\n",
    "data = hdu_list[1].data\n",
    "hdu_list.close()\n",
    "\n",
    "if(bool_subset_flag):\n",
    "    data = data[data[bool_subset_col] == True]"
   ]
  },
  {
   "cell_type": "markdown",
   "metadata": {},
   "source": [
    "## Interpolation"
   ]
  },
  {
   "cell_type": "code",
   "execution_count": null,
   "metadata": {
    "ExecuteTime": {
     "end_time": "2020-07-10T03:47:42.464365Z",
     "start_time": "2020-07-10T03:47:41.548994Z"
    }
   },
   "outputs": [],
   "source": [
    "mbol_interp = []\n",
    "\n",
    "# Color calculations for model\n",
    "g_model, r_model, i_model, z_model, y_model, mbol_model = np.loadtxt('text_files/PAN_STARRS_color_teff.txt', \n",
    "                                                                     unpack=True, usecols=(1,2,3,4,5,9))\n",
    "\n",
    "g_r_model = np.subtract(g_model, r_model)\n",
    "i_z_model = np.subtract(i_model, z_model)\n",
    "    \n",
    "for index in range(0, len(data)):\n",
    "\n",
    "    # List of photometry column names\n",
    "    photometry_cols = [gmag_col, gmag_err_col, rmag_col, rmag_err_col, imag_col, imag_err_col, zmag_col, zmag_err_col]\n",
    "\n",
    "    # Initialized dictionary of photometry variables\n",
    "    photometry_dict = {'gmag': np.nan, 'gmage':  np.nan, 'rmag':  np.nan, 'rmage':  np.nan, 'imag':  np.nan, 'image':  np.nan,\n",
    "                       'zmag':  np.nan, 'zmage':  np.nan}\n",
    "\n",
    "    # Color calculations for data\n",
    "    photometry_dict = photometry(photometry_cols, photometry_dict)  \n",
    "    g_r = np.subtract(photometry_dict['gmag'], photometry_dict['rmag'])\n",
    "    i_z = np.subtract(photometry_dict['imag'], photometry_dict['zmag'])\n",
    "\n",
    "    # Interpolate and append\n",
    "    mbol = griddata((g_r_model, i_z_model), mbol_model, (g_r, i_z), method='linear')\n",
    "    mbol_interp.append(mbol)"
   ]
  },
  {
   "cell_type": "markdown",
   "metadata": {},
   "source": [
    "## Print Interpolated Data"
   ]
  },
  {
   "cell_type": "code",
   "execution_count": null,
   "metadata": {
    "ExecuteTime": {
     "end_time": "2020-07-10T03:47:42.493130Z",
     "start_time": "2020-07-10T03:47:42.475781Z"
    }
   },
   "outputs": [],
   "source": [
    "# Print interpolated data\n",
    "\n",
    "mbol_interp = np.array(mbol_interp)\n",
    "print(mbol_interp)"
   ]
  }
 ],
 "metadata": {
  "kernelspec": {
   "display_name": "Python 3",
   "language": "python",
   "name": "python3"
  },
  "language_info": {
   "codemirror_mode": {
    "name": "ipython",
    "version": 3
   },
   "file_extension": ".py",
   "mimetype": "text/x-python",
   "name": "python",
   "nbconvert_exporter": "python",
   "pygments_lexer": "ipython3",
   "version": "3.7.6"
  },
  "toc": {
   "base_numbering": 1,
   "nav_menu": {},
   "number_sections": true,
   "sideBar": true,
   "skip_h1_title": false,
   "title_cell": "Table of Contents",
   "title_sidebar": "Contents",
   "toc_cell": false,
   "toc_position": {},
   "toc_section_display": true,
   "toc_window_display": false
  }
 },
 "nbformat": 4,
 "nbformat_minor": 4
}
